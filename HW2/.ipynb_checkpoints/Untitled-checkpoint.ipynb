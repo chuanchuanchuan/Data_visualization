{
 "cells": [
  {
   "cell_type": "code",
   "execution_count": 1,
   "metadata": {},
   "outputs": [
    {
     "data": {
      "text/plain": [
       "<Figure size 640x480 with 1 Axes>"
      ]
     },
     "metadata": {},
     "output_type": "display_data"
    },
    {
     "name": "stderr",
     "output_type": "stream",
     "text": [
      "MovieWriter imagemagick unavailable. Trying to use pillow instead.\n"
     ]
    }
   ],
   "source": [
    "import matplotlib.pyplot as plt\n",
    "from matplotlib.animation import FuncAnimation\n",
    "import numpy as np\n",
    "import seaborn\n",
    "\n",
    "fig, ax = plt.subplots()\n",
    "\n",
    "x = np.arange(0, 20, .01)\n",
    "ax.scatter(x, x+np.random.normal(0, 3, len(x)))\n",
    "line, = ax.plot(x, x-5, 'r-', lw=2)\n",
    "#已经用ax画出来了\n",
    "\n",
    "# i => ith frame\n",
    "#更新函数 \n",
    "def update(i):\n",
    "    line.set_ydata(x-5+i)#对于已经存在的数据 line根据x处理的y_data\n",
    "    ax.set_xlabel('frame {0}'.format(i))\n",
    "    return line, ax\n",
    "\n",
    "if __name__ == '__main__':\n",
    "\n",
    "    animation = FuncAnimation(fig, update, frames=np.arange(0, 20), interval=200)\n",
    "        # 200ms 的间隔，相当于 5fps，一秒 5 帧\n",
    "    plt.show()\n",
    "    animation.save('line.gif', dpi=80, writer='imagemagick')"
   ]
  },
  {
   "cell_type": "code",
   "execution_count": null,
   "metadata": {},
   "outputs": [],
   "source": []
  }
 ],
 "metadata": {
  "kernelspec": {
   "display_name": "Python 3",
   "language": "python",
   "name": "python3"
  },
  "language_info": {
   "codemirror_mode": {
    "name": "ipython",
    "version": 3
   },
   "file_extension": ".py",
   "mimetype": "text/x-python",
   "name": "python",
   "nbconvert_exporter": "python",
   "pygments_lexer": "ipython3",
   "version": "3.7.1"
  }
 },
 "nbformat": 4,
 "nbformat_minor": 2
}
