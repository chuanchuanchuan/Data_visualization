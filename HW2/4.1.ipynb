{
 "cells": [
  {
   "cell_type": "code",
   "execution_count": 15,
   "metadata": {},
   "outputs": [
    {
     "name": "stdout",
     "output_type": "stream",
     "text": [
      "0.09968600344297315\n"
     ]
    },
    {
     "data": {
      "text/plain": [
       "<BarContainer object of 10 artists>"
      ]
     },
     "execution_count": 15,
     "metadata": {},
     "output_type": "execute_result"
    },
    {
     "data": {
      "text/plain": [
       "<Figure size 432x288 with 0 Axes>"
      ]
     },
     "metadata": {},
     "output_type": "display_data"
    },
    {
     "data": {
      "image/png": "[encoded data removed]",
      "text/plain": [
       "<Figure size 864x864 with 1 Axes>"
      ]
     },
     "metadata": {
      "needs_background": "light"
     },
     "output_type": "display_data"
    }
   ],
   "source": [
    "import  matplotlib.pyplot as plt\n",
    "import numpy as np\n",
    "#一开始理解错题目 只可视化了n维数据中的一维\n",
    "def histogram(data,bins,dim=None):\n",
    "    data = data if dim == None else data[dim]\n",
    "    data_max, data_min = max(data),min(data)\n",
    "    #确定宽度\n",
    "    width = (data_max - data_min)/bins\n",
    "    N = np.arange(bins)\n",
    "    bin_start = [data_min + i * width for i in N]\n",
    "    bin_freq = np.array([0*i for i in N])\n",
    "    print(width)\n",
    "    #确定频率\n",
    "    for e in data:\n",
    "        if e != data_max:\n",
    "            bin_freq[int((e-data_min)//width)] = bin_freq[int((e-data_min)//width)] + 1\n",
    "        else: bin_freq[-1] =bin_freq[-1]+1\n",
    "            #对最大值的特殊处理\n",
    "    #返回\n",
    "    return width,bin_start,bin_freq\n",
    "\n",
    "#创建随机数\n",
    "n = 1000\n",
    "data = np.array([np.random.rand(n),\n",
    "                np.random.rand(n),\n",
    "                np.random.rand(n)])\n",
    "width,bin_start,bin_freq = histogram(data,10,1)\n",
    "plt.figure()\n",
    "f,ax=plt.subplots(figsize=(12,12))\n",
    "#ax是操作子图操作，plt由figure设置大小 但是插入子图会改变 所以子图设置大小\n",
    "x_pos = np.arange(10)\n",
    "x_label = [\"%0.2f\"%i + \"-\" +\"%0.2f\"%(i+width) for i in bin_start]\n",
    "plt.bar(x_label,bin_freq,width=width*5,color='r',alpha=0.5)\n"
   ]
  },
  {
   "cell_type": "code",
   "execution_count": 2,
   "metadata": {},
   "outputs": [
    {
     "name": "stdout",
     "output_type": "stream",
     "text": [
      "[3. 1. 0. 0. 1. 0. 1. 1. 0. 2. 2. 5. 0. 0. 1. 0. 1. 1. 0. 0. 1. 2. 2. 1.\n",
      " 2. 0. 0. 0. 0. 1. 0. 0. 0. 0. 3. 2. 3. 0. 3. 1. 0. 1. 0. 0. 1. 1. 1. 0.\n",
      " 1. 2. 0. 0. 2. 0. 1. 1. 1. 0. 0. 0. 1. 0. 0. 1. 0. 1. 0. 1. 1. 1. 0. 0.\n",
      " 0. 1. 1. 2. 0. 1. 1. 0. 3. 0. 0. 0. 1. 0. 1. 0. 0. 1. 1. 3. 2. 0. 1. 1.\n",
      " 2. 4. 1. 0. 0. 0. 0. 1. 0. 0. 1. 2. 1. 1. 2. 0. 2. 2. 2. 1. 0. 1. 0. 0.\n",
      " 0. 0. 3. 2. 1. 1. 0. 1. 0. 0. 0. 0. 0. 2. 3. 1. 0. 2. 0. 2. 1. 1. 0. 1.\n",
      " 3. 1. 0. 1. 1. 2. 1. 4. 1. 1. 1. 1. 2. 0. 0. 2. 2. 2. 1. 0. 2. 0. 1. 1.\n",
      " 2. 5. 0. 1. 2. 0. 1. 0. 0. 1. 0. 1. 0. 2. 1. 0. 1. 1. 0. 0. 0. 1. 0. 0.\n",
      " 1. 0. 0. 0. 2. 1. 1. 1. 0. 0. 1. 1. 0. 0. 1. 2. 1. 2. 0. 0. 2. 1. 1. 3.\n",
      " 1. 0. 0. 2. 1. 1. 1. 1. 0. 1. 0. 1. 3. 2. 1. 1. 1. 2. 0. 2. 0. 2. 0. 1.\n",
      " 1. 1. 1. 2. 2. 2. 0. 0. 1. 0. 0. 2. 1. 0. 0. 1. 0. 0. 0. 4. 0. 0. 0. 2.\n",
      " 0. 0. 1. 0. 0. 0. 0. 1. 3. 1. 0. 0. 0. 2. 0. 1. 0. 1. 2. 0. 1. 1. 0. 2.\n",
      " 2. 1. 0. 0. 2. 2. 2. 0. 1. 4. 0. 0. 0. 1. 1. 0. 0. 2. 4. 3. 1. 3. 2. 0.\n",
      " 1. 1. 1. 0. 0. 1. 1. 0. 0. 1. 1. 1. 0. 1. 0. 1. 0. 2. 0. 1. 1. 2. 0. 0.\n",
      " 2. 1. 3. 0. 0. 0. 3. 5. 1. 2. 0. 0. 1. 3. 2. 0. 3. 2. 0. 1. 1. 1. 4. 1.\n",
      " 2. 0. 1. 0. 0. 3. 1. 1. 0. 1. 1. 0. 0. 0. 2. 0. 1. 2. 2. 0. 1. 1. 2. 3.\n",
      " 0. 2. 3. 0. 0. 1. 1. 2. 2. 0. 0. 1. 2. 2. 1. 1. 2. 1. 1. 2. 1. 1. 1. 1.\n",
      " 0. 0. 2. 0. 1. 1. 0. 0. 2. 2. 3. 1. 0. 2. 1. 0. 2. 1. 0. 2. 4. 1. 1. 1.\n",
      " 2. 0. 1. 0. 0. 0. 0. 3. 1. 0. 2. 1. 2. 0. 2. 1. 1. 0. 0. 0. 0. 0. 0. 2.\n",
      " 0. 3. 1. 1. 2. 0. 0. 1. 0. 0. 2. 2. 0. 1. 0. 1. 3. 3. 2. 3. 0. 0. 1. 1.\n",
      " 1. 0. 0. 0. 1. 1. 1. 1. 2. 2. 1. 0. 1. 0. 2. 0. 1. 0. 2. 2. 1. 2. 1. 1.\n",
      " 3. 0. 1. 2. 0. 5. 2. 2. 3. 0. 1. 0. 2. 1. 2. 2. 2. 2. 0. 0. 2. 0. 2. 0.\n",
      " 0. 1. 1. 1. 1. 1. 2. 1. 0. 0. 2. 1. 0. 0. 0. 1. 2. 2. 1. 3. 1. 1. 1. 2.\n",
      " 0. 1. 2. 0. 0. 2. 3. 0. 2. 0. 1. 1. 0. 1. 1. 1. 2. 1. 1. 3. 1. 1. 0. 0.\n",
      " 0. 1. 0. 1. 0. 3. 0. 0. 0. 0. 0. 1. 0. 1. 1. 0. 2. 1. 1. 1. 0. 1. 0. 1.\n",
      " 4. 0. 0. 1. 0. 2. 0. 2. 1. 0. 1. 1. 0. 0. 0. 1. 3. 0. 1. 3. 0. 0. 1. 0.\n",
      " 4. 1. 5. 1. 2. 1. 1. 0. 1. 3. 0. 2. 0. 2. 3. 1. 0. 2. 0. 1. 1. 0. 1. 2.\n",
      " 5. 2. 0. 0. 0. 2. 1. 1. 2. 1. 1. 0. 1. 5. 1. 1. 1. 1. 1. 3. 2. 1. 0. 0.\n",
      " 5. 1. 1. 1. 2. 1. 1. 0. 3. 2. 2. 0. 2. 1. 1. 1. 1. 0. 1. 1. 0. 2. 2. 2.\n",
      " 1. 1. 1. 1. 0. 3. 3. 1. 2. 2. 1. 2. 2. 0. 2. 2. 1. 0. 2. 0. 1. 1. 0. 3.\n",
      " 0. 1. 1. 1. 3. 1. 2. 1. 1. 0. 1. 0. 2. 1. 1. 0. 0. 1. 1. 1. 0. 0. 4. 0.\n",
      " 1. 1. 0. 2. 1. 1. 0. 2. 2. 2. 1. 2. 0. 1. 1. 2. 1. 1. 1. 0. 1. 1. 1. 0.\n",
      " 1. 0. 0. 1. 0. 0. 2. 0. 1. 0. 1. 0. 0. 2. 0. 0. 0. 4. 1. 1. 4. 1. 1. 0.\n",
      " 3. 0. 0. 1. 0. 3. 2. 0. 1. 1. 0. 2. 1. 1. 1. 2. 0. 1. 0. 1. 1. 1. 0. 2.\n",
      " 0. 0. 2. 2. 1. 1. 1. 0. 0. 2. 1. 3. 3. 5. 1. 1. 2. 1. 1. 1. 0. 1. 1. 1.\n",
      " 0. 1. 2. 1. 1. 2. 2. 0. 2. 1. 1. 2. 2. 2. 1. 3. 1. 1. 0. 1. 1. 1. 1. 0.\n",
      " 1. 1. 0. 2. 1. 2. 0. 1. 0. 1. 1. 0. 1. 1. 0. 0. 1. 0. 1. 2. 1. 1. 0. 1.\n",
      " 0. 1. 2. 1. 2. 2. 1. 0. 2. 1. 2. 2. 1. 2. 2. 1. 1. 1. 1. 1. 1. 1. 0. 0.\n",
      " 1. 1. 2. 1. 0. 0. 0. 0. 3. 2. 1. 1. 0. 0. 0. 0. 0. 1. 2. 2. 0. 0. 2. 0.\n",
      " 0. 1. 0. 0. 0. 1. 0. 0. 1. 1. 0. 0. 0. 3. 0. 2. 0. 1. 0. 4. 0. 0. 0. 3.\n",
      " 0. 1. 0. 0. 1. 1. 1. 0. 0. 0. 0. 1. 1. 1. 1. 2. 1. 0. 1. 2. 1. 2. 2. 1.\n",
      " 1. 1. 0. 2. 0. 1. 0. 3. 1. 0. 0. 0. 0. 3. 1. 0.]\n"
     ]
    }
   ],
   "source": [
    "import numpy as np\n",
    "#正确理解应该是计数\n",
    "def power(N,dim):\n",
    "    result = 1\n",
    "    for i in range(dim):\n",
    "        result = result * N\n",
    "    return result\n",
    "\n",
    "def histogram_count(data,bins,dim=None):\n",
    "    #确定需要多少个位置保存频率\n",
    "    N = 1\n",
    "    N = power(bins,dim)\n",
    "    record = np.zeros(N)\n",
    "    data_max = []\n",
    "    data_min = []\n",
    "    width = []\n",
    "    for i in range(dim): \n",
    "        data_max.append(max(data[i]))\n",
    "        data_min.append(min(data[i]))\n",
    "        width.append((data_max[i] - data_min[i])/bins)\n",
    "    pos = []\n",
    "    #数值每一维的保存位置\n",
    "    for i in range(len(data[0])):\n",
    "        temp = []\n",
    "        for j in range(dim):\n",
    "            if data[j][i] != data_max[j]:\n",
    "                temp.append(int((data[j][i]-data_min[j])//width[j]))\n",
    "            else:temp.append(bins-1)\n",
    "        pos.append(temp)\n",
    "    #确定每个数据的位置\n",
    "    for i in range(len(data[0])):\n",
    "        current_pos = 0\n",
    "        for j in range(dim):\n",
    "            current_pos = current_pos + power(bins,dim-j-1) * pos[i][j]\n",
    "        record[current_pos] = record[current_pos] + 1\n",
    "    return record\n",
    "n = 1000\n",
    "data = np.array([np.random.rand(n),\n",
    "                np.random.rand(n),\n",
    "                np.random.rand(n)])\n",
    "\n",
    "bin_result = histogram_count(data,10,3)\n",
    "print(bin_result)"
   ]
  },
  {
   "cell_type": "code",
   "execution_count": null,
   "metadata": {},
   "outputs": [],
   "source": []
  },
  {
   "cell_type": "code",
   "execution_count": null,
   "metadata": {},
   "outputs": [],
   "source": []
  },
  {
   "cell_type": "code",
   "execution_count": null,
   "metadata": {},
   "outputs": [],
   "source": []
  },
  {
   "cell_type": "code",
   "execution_count": null,
   "metadata": {},
   "outputs": [],
   "source": []
  }
 ],
 "metadata": {
  "kernelspec": {
   "display_name": "Python 3",
   "language": "python",
   "name": "python3"
  },
  "language_info": {
   "codemirror_mode": {
    "name": "ipython",
    "version": 3
   },
   "file_extension": ".py",
   "mimetype": "text/x-python",
   "name": "python",
   "nbconvert_exporter": "python",
   "pygments_lexer": "ipython3",
   "version": "3.7.1"
  }
 },
 "nbformat": 4,
 "nbformat_minor": 2
}
